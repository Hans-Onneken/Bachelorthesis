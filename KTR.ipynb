{
 "cells": [
  {
   "cell_type": "code",
   "execution_count": null,
   "metadata": {},
   "outputs": [],
   "source": [
    "!pip install orbit-ml\n",
    "import pandas as pd\n",
    "import numpy as np\n",
    "from math import pi\n",
    "import matplotlib.pyplot as plt\n",
    "import orbit\n",
    "from orbit.models import KTR\n",
    "from orbit.diagnostics.plot import plot_predicted_components\n",
    "from orbit.utils.plot import get_orbit_style\n",
    "from orbit.constants.palette import OrbitPalette"
   ]
  },
  {
   "cell_type": "code",
   "execution_count": null,
   "metadata": {},
   "outputs": [],
   "source": [
    "%matplotlib inline\n",
    "pd.set_option('display.float_format', lambda x: '%.5f' % x)\n",
    "orbit_style = get_orbit_style()\n",
    "plt.style.use(orbit_style);"
   ]
  },
  {
   "cell_type": "code",
   "execution_count": null,
   "metadata": {},
   "outputs": [],
   "source": [
    "# Setting up Model Variables by transforming Data Columns\n",
    "\n",
    "## Sorting by Date and other Date transformations\n",
    "df_readability_kickstarter_small['project_launched_at'] = pd.to_datetime(df_readability_kickstarter_small['project_launched_at'])\n",
    "df_readability_kickstarter_small.sort_values(by='project_launched_at', inplace=True)\n",
    "\n",
    "df_readability_kickstarter_small['project_deadline'] = pd.to_datetime(df_readability_kickstarter_small['project_deadline'])\n",
    "df_readability_kickstarter_small['timestamp_launched'] = df_readability_kickstarter_small['project_launched_at'].apply(lambda x: (datetime.timestamp(x) / 1000000))\n",
    "df_readability_kickstarter_small['timestamp_deadline'] = df_readability_kickstarter_small['project_deadline'].apply(lambda x: (datetime.timestamp(x) / 1000000))\n",
    "\n",
    "## Response Variable\n",
    "CF_success = df_readability_kickstarter_small['project_pledged'].apply(lambda x: np.log(x) if x != 0 else 0)\n",
    "\n",
    "## Explanatory Variables\n",
    "readability = df_readability_kickstarter_small['flesch_kincaid']\n",
    "readability_squared = df_readability_kickstarter_small['flesch_kincaid'] * df_readability_kickstarter_small['flesch_kincaid']\n",
    "\n",
    "##Control Variables\n",
    "loved_project = df_readability_kickstarter_small['project_staff_pick']\n",
    "video = df_readability_kickstarter_small['project_video_url'].apply(lambda x: 0 if pd.isna(x) else 1)\n",
    "funding_duration = df_readability_kickstarter_small['timestamp_deadline'] - df_readability_kickstarter_small['timestamp_launched']\n",
    "number_of_words = df_readability_kickstarter_small['num_words']\n",
    "log_funding_goal = df_readability_kickstarter_small['project_goal'].apply(lambda x: np.log(x))\n",
    "updates = df_readability_kickstarter_small['updates_until_deadline']\n",
    "rewards = df_readability_kickstarter_small['project_rewards']\n",
    "number_projects = df_readability_kickstarter_small['project_creator_project_number'].apply(lambda x: 0 if pd.isna(x) else x)"
   ]
  },
  {
   "cell_type": "code",
   "execution_count": null,
   "metadata": {},
   "outputs": [],
   "source": [
    "# Create a new DataFrame to store the variables\n",
    "df_stochastic = pd.DataFrame({\n",
    "    'Crowdfunding success': CF_success,\n",
    "    'Readability': readability,\n",
    "    'Readability^2': readability_squared,\n",
    "    #'Time': time,\n",
    "    #'Readability * Time': readabilityXtime,\n",
    "    #'Readability^2 * Time': readability_squaredXtime,\n",
    "    'Loved Project': loved_project,\n",
    "    'Video': video,\n",
    "    'Funding Duration': funding_duration,\n",
    "    'Number of Words': number_of_words,\n",
    "    'Log(Funding Goal)': log_funding_goal,\n",
    "    'Updates': updates,\n",
    "    'Rewards': rewards,\n",
    "    'Number of projects': number_projects,\n",
    "    'date': df_readability_kickstarter_small['project_launched_at']\n",
    "})"
   ]
  },
  {
   "cell_type": "code",
   "execution_count": null,
   "metadata": {},
   "outputs": [],
   "source": [
    "regressor_col = ['Readability', 'Readability^2', 'Loved Project', 'Video', 'Funding Duration', 'Number of Words',\n",
    "                  'Log(Funding Goal)', 'Updates', 'Rewards', 'Number of projects']\n",
    "response_col = 'Crowdfunding success'\n",
    "date_col='date'"
   ]
  },
  {
   "cell_type": "code",
   "execution_count": null,
   "metadata": {},
   "outputs": [],
   "source": [
    "ktr = KTR(\n",
    "    response_col=response_col,\n",
    "    date_col=date_col,\n",
    "    regressor_col=regressor_col,\n",
    "    prediction_percentiles=[2.5, 97.5],\n",
    "    seed=2013,\n",
    "    estimator='pyro-svi',\n",
    ")"
   ]
  },
  {
   "cell_type": "code",
   "execution_count": null,
   "metadata": {},
   "outputs": [],
   "source": [
    "ktr.fit(df=df_stochastic)\n",
    "ktr.predict(df=df_stochastic, decompose=True).head(5)"
   ]
  },
  {
   "cell_type": "code",
   "execution_count": null,
   "metadata": {},
   "outputs": [],
   "source": [
    "ktr.plot_regression_coefs(figsize=(20, 10), include_ci=True);"
   ]
  }
 ],
 "metadata": {
  "language_info": {
   "name": "python"
  },
  "orig_nbformat": 4
 },
 "nbformat": 4,
 "nbformat_minor": 2
}
