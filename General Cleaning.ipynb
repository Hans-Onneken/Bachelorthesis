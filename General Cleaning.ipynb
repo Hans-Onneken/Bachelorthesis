{
 "cells": [
  {
   "cell_type": "code",
   "execution_count": 1,
   "metadata": {},
   "outputs": [],
   "source": [
    "import pandas as pd\n",
    "import nltk\n",
    "import re\n",
    "from bs4 import BeautifulSoup\n",
    "from langdetect import detect\n",
    "from readability import Readability\n",
    "from tqdm.notebook import tqdm\n",
    "tqdm.pandas()"
   ]
  },
  {
   "cell_type": "markdown",
   "metadata": {},
   "source": [
    "# Data"
   ]
  },
  {
   "cell_type": "code",
   "execution_count": 3,
   "metadata": {},
   "outputs": [],
   "source": [
    "df_kickstarter = pd.read_csv('../kickstarter.csv')"
   ]
  },
  {
   "cell_type": "markdown",
   "metadata": {},
   "source": [
    "# Functions"
   ]
  },
  {
   "cell_type": "code",
   "execution_count": null,
   "metadata": {},
   "outputs": [],
   "source": [
    "def numWords(text):\n",
    "    r = Readability(text)\n",
    "    try:\n",
    "        t = r.statistics()\n",
    "        return t['num_words']\n",
    "    except:\n",
    "        return None"
   ]
  },
  {
   "cell_type": "code",
   "execution_count": null,
   "metadata": {},
   "outputs": [],
   "source": [
    "def removeHTML(html_str):\n",
    "    soup = BeautifulSoup(str(html_str), features=\"html.parser\")\n",
    "    return soup.get_text()"
   ]
  },
  {
   "cell_type": "code",
   "execution_count": null,
   "metadata": {},
   "outputs": [],
   "source": [
    "def remove_urls(document):\n",
    "    document = re.sub(r'http\\S+', '', str(document))\n",
    "    return document"
   ]
  },
  {
   "cell_type": "code",
   "execution_count": null,
   "metadata": {},
   "outputs": [],
   "source": [
    "def remove_parting_lines(document):\n",
    "    pattern = r'^[\\*\\-#]{5,}.+$'\n",
    "    document = re.sub(pattern, '', str(document), flags=re.MULTILINE)\n",
    "    return document"
   ]
  },
  {
   "cell_type": "code",
   "execution_count": null,
   "metadata": {},
   "outputs": [],
   "source": [
    "def detectLang(t):\n",
    "    try:\n",
    "        return detect(t)\n",
    "    except:\n",
    "        return None"
   ]
  },
  {
   "cell_type": "markdown",
   "metadata": {},
   "source": [
    "# General Cleaning"
   ]
  },
  {
   "cell_type": "code",
   "execution_count": null,
   "metadata": {},
   "outputs": [],
   "source": [
    "# Filter rows based on column: 'project_country'\n",
    "df_kickstarter = df_kickstarter[df_kickstarter['project_country'] == \"US\"]"
   ]
  },
  {
   "cell_type": "code",
   "execution_count": null,
   "metadata": {},
   "outputs": [],
   "source": [
    "# Filter rows based on column: 'project_currency'\n",
    "df_kickstarter = df_kickstarter[df_kickstarter['project_currency'] == \"USD\"]"
   ]
  },
  {
   "cell_type": "code",
   "execution_count": null,
   "metadata": {},
   "outputs": [],
   "source": [
    "# Drop rows with missing data in column: 'project_title'\n",
    "df_kickstarter = df_kickstarter.dropna(subset=['project_title'])"
   ]
  },
  {
   "cell_type": "code",
   "execution_count": null,
   "metadata": {},
   "outputs": [],
   "source": [
    "# Drop rows with missing data in column: 'project_description'\n",
    "df_kickstarter = df_kickstarter.dropna(subset=['project_title'])"
   ]
  },
  {
   "cell_type": "code",
   "execution_count": null,
   "metadata": {},
   "outputs": [],
   "source": [
    "# Drop duplicate rows in column: 'project_description'\n",
    "df_kickstarter = df_kickstarter.drop_duplicates(subset=['project_description'])"
   ]
  },
  {
   "cell_type": "code",
   "execution_count": null,
   "metadata": {},
   "outputs": [],
   "source": [
    "df_kickstarter['project_description'] = df_kickstarter['project_description'].apply(removeHTML)"
   ]
  },
  {
   "cell_type": "code",
   "execution_count": null,
   "metadata": {},
   "outputs": [],
   "source": [
    "df_kickstarter['project_description'] = df_kickstarter['project_description'].apply(remove_urls)"
   ]
  },
  {
   "cell_type": "code",
   "execution_count": null,
   "metadata": {},
   "outputs": [],
   "source": [
    "df_kickstarter['project_description'] = df_kickstarter['project_description'].apply(remove_parting_lines)"
   ]
  },
  {
   "cell_type": "code",
   "execution_count": null,
   "metadata": {},
   "outputs": [],
   "source": [
    "nltk.download('punkt')\n",
    "df_kickstarter['num_words'] = df_kickstarter['project_description'].progress_apply(numWords)\n",
    "df_kickstarter = df_kickstarter[df_kickstarter['num_words'] >= 100]\n",
    "# Reducing outliers (very long project descriptions might effect topic modelling negatively)\n",
    "df_kickstarter = df_kickstarter[df_kickstarter['num_words'] <= 2000]"
   ]
  },
  {
   "cell_type": "code",
   "execution_count": null,
   "metadata": {},
   "outputs": [],
   "source": [
    "df_kickstarter['project_lang'] = df_kickstarter['project_description'].progress_apply(detectLang)\n",
    "df_kickstarter = df_kickstarter[df_kickstarter['project_lang'] == 'en']"
   ]
  },
  {
   "cell_type": "code",
   "execution_count": null,
   "metadata": {},
   "outputs": [],
   "source": [
    "df_kickstarter.to_csv('./kickstarter_cleaned.csv')"
   ]
  }
 ],
 "metadata": {
  "kernelspec": {
   "display_name": "Bachelorthesis",
   "language": "python",
   "name": "python3"
  },
  "language_info": {
   "codemirror_mode": {
    "name": "ipython",
    "version": 3
   },
   "file_extension": ".py",
   "mimetype": "text/x-python",
   "name": "python",
   "nbconvert_exporter": "python",
   "pygments_lexer": "ipython3",
   "version": "3.8.16"
  },
  "orig_nbformat": 4
 },
 "nbformat": 4,
 "nbformat_minor": 2
}
